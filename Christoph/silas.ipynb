{
 "cells": [
  {
   "cell_type": "code",
   "execution_count": 1,
   "metadata": {},
   "outputs": [],
   "source": [
    "import pandas as pd\n",
    "import numpy as np\n",
    "import matplotlib.pyplot as plt\n",
    "import xlrd"
   ]
  },
  {
   "cell_type": "code",
   "execution_count": 2,
   "metadata": {},
   "outputs": [
    {
     "name": "stdout",
     "output_type": "stream",
     "text": [
      "AverageFare_Q1_2018.xls\n",
      "AverageFare_Q2_2018.xls\n",
      "AverageFare_Q3_2018.xls\n",
      "AverageFare_Q4_2018.xls\n",
      "AverageFare_Q1_2019.xls\n",
      "AverageFare_Q2_2019.xls\n",
      "AverageFare_Q3_2019.xls\n",
      "AverageFare_Q4_2019.xls\n",
      "AverageFare_Q1_2020.xls\n",
      "AverageFare_Q2_2020.xls\n",
      "AverageFare_Q3_2020.xls\n",
      "AverageFare_Q4_2020.xls\n",
      "AverageFare_Q1_2021.xls\n",
      "AverageFare_Q2_2021.xls\n",
      "AverageFare_Q3_2021.xls\n",
      "AverageFare_Q4_2021.xls\n",
      "AverageFare_Q1_2022.xls\n",
      "AverageFare_Q2_2022.xls\n",
      "AverageFare_Q3_2022.xls\n",
      "AverageFare_Q4_2022.xls\n",
      "AverageFare_Q1_2023.xls\n",
      "AverageFare_Q2_2023.xls\n",
      "AverageFare_Q3_2023.xls\n"
     ]
    }
   ],
   "source": [
    "basename_fares = 'AverageFare_Q' \n",
    "# Initializes the list of files\n",
    "fares_files = []\n",
    "#Intial years to start\n",
    "year_fares = 2018\n",
    "# for loop to create the list of file names\n",
    "for counter in range(6*4):\n",
    "    fares_files.append(f'{basename_fares}{counter%4+1}_{year_fares}.xls')\n",
    "    #year_fares += 1\n",
    "    if (counter+1)%4 == 0:\n",
    "        year_fares += 1\n",
    "# data ends at Q3_2023\n",
    "for i in range(len(fares_files)-1):\n",
    "    print(fares_files[i])\n",
    "        "
   ]
  },
  {
   "cell_type": "code",
   "execution_count": null,
   "metadata": {},
   "outputs": [],
   "source": [
    "book = xlrd.open_workbook(\"Resources/AverageFare_Q1_2023.xls\")\n",
    "print(\"The number of worksheets is {0}\".format(book.nsheets))"
   ]
  },
  {
   "cell_type": "code",
   "execution_count": null,
   "metadata": {},
   "outputs": [],
   "source": [
    "import pandas as pd\n",
    "fares_dataframes = []\n",
    "\n",
    "for i in range(len(fares_files)-1):\n",
    "    print(fares_files[i])\n",
    "    \n",
    "    \n",
    "    try:\n",
    "        df = pd.read_csv(f'Resources/{fares_files[i]}', sheet_name='AverageFares', skiprows=1, engine = 'xlrd')\n",
    "    except Exception as e: \n",
    "     # This will catch any other type of exception\n",
    "        print(\"An error occurred\", e)\n",
    "        "
   ]
  }
 ],
 "metadata": {
  "kernelspec": {
   "display_name": "dev",
   "language": "python",
   "name": "python3"
  },
  "language_info": {
   "codemirror_mode": {
    "name": "ipython",
    "version": 3
   },
   "file_extension": ".py",
   "mimetype": "text/x-python",
   "name": "python",
   "nbconvert_exporter": "python",
   "pygments_lexer": "ipython3",
   "version": "3.10.13"
  }
 },
 "nbformat": 4,
 "nbformat_minor": 2
}
